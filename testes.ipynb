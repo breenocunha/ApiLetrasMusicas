{
 "cells": [
  {
   "cell_type": "code",
   "execution_count": 2,
   "metadata": {},
   "outputs": [],
   "source": [
    "import requests\n",
    "\n",
    "endpoint = \"https://api.lyrics.ovh/v1/titas/flores\"\n",
    "\n",
    "response = requests.get(endpoint)"
   ]
  },
  {
   "cell_type": "code",
   "execution_count": 7,
   "metadata": {},
   "outputs": [
    {
     "name": "stdout",
     "output_type": "stream",
     "text": [
      "Olhei até ficar cansado de ver os meus olhos no espelho\n",
      "Chorei por ter despedaçado\n",
      "As flores que estão no canteiro\n",
      "Os punhos e os pulsos cortados\n",
      "E o resto do meu corpo inteiro\n",
      "\n",
      "Há flores cobrindo o telhado\n",
      "\n",
      "Embaixo do meu travesseiro\n",
      "\n",
      "Há flores por todos os lados\n",
      "\n",
      "Há flores em tudo o que eu vejo\n",
      "\n",
      "\n",
      "\n",
      "A dor vai curar essas lástimas\n",
      "\n",
      "O soro tem gosto de lágrimas\n",
      "\n",
      "As flores tem cheiro de morte\n",
      "\n",
      "A dor vai fechar esses cortes\n",
      "\n",
      "\n",
      "\n",
      "Flores\n",
      "\n",
      "Flores\n",
      "\n",
      "As flores de plástico não morrem\n"
     ]
    }
   ],
   "source": [
    "print(response.json()['lyrics'])"
   ]
  }
 ],
 "metadata": {
  "kernelspec": {
   "display_name": ".venv",
   "language": "python",
   "name": "python3"
  },
  "language_info": {
   "codemirror_mode": {
    "name": "ipython",
    "version": 3
   },
   "file_extension": ".py",
   "mimetype": "text/x-python",
   "name": "python",
   "nbconvert_exporter": "python",
   "pygments_lexer": "ipython3",
   "version": "3.12.5"
  }
 },
 "nbformat": 4,
 "nbformat_minor": 2
}
